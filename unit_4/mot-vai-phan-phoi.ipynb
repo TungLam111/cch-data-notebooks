{
 "cells": [
  {
   "cell_type": "markdown",
   "metadata": {},
   "source": [
    "# <center>MỘT VÀI ĐỊNH NGHĨA</center>\n",
    "**PMF** = probability mass function, dành cho discrete distributions  \n",
    "**PDF** = probability density function, dành cho continuous distributions  \n",
    "=> Hai định nghĩa trên được hiểu là xác suất xảy ra event với các params như p,n,.. tại giá trị x.  \n",
    "\n",
    "**CDF** = cumulative density function, là tổng xác suất từ giá trị đầu tiên đến giá trị x  \n",
    "**SF** = survival function, là tổng xác suất từ giá trị x đến giá trị cuối cùng, = 1-CDF  \n",
    "=> Đối với discrete distributions thì 2 functions này tổng các PMF.  \n",
    "=> Đối với continuous distributions thì 2 functions này là tích phân PDF\n",
    "\n",
    "*Ngược lại,*  \n",
    "**PPF** = percent point function, nhập CDF cho giá trị x  \n",
    "**ISF** = inverse survival function, nhập SF cho giá trị x"
   ]
  },
  {
   "cell_type": "code",
   "execution_count": 35,
   "metadata": {},
   "outputs": [],
   "source": [
    "import matplotlib.pyplot as plt\n",
    "import numpy as np\n",
    "import scipy.stats as st\n",
    "%matplotlib inline"
   ]
  },
  {
   "cell_type": "markdown",
   "metadata": {},
   "source": [
    "---\n",
    "# <center>DISCRETE DISTRIBUTIONS</center>"
   ]
  },
  {
   "cell_type": "markdown",
   "metadata": {},
   "source": [
    "---\n",
    "# [BERNOULLI DISTRIBUTION](https://en.wikipedia.org/wiki/Bernoulli_distribution)\n",
    "Là phân phối của tỉ lệ ra event  \n",
    "$$ X \\sim B(p) $$\n",
    "$$ \\text{PMF} = \n",
    "\\begin{cases}\n",
    "1-p \\;& \\text{with x=0} \\\\\n",
    "p   \\;& \\text{with x=1}\n",
    "\\end{cases}$$\n",
    "$$ E[X] = p \\quad \\text{Var}(X)= p(1-p)$$"
   ]
  },
  {
   "cell_type": "code",
   "execution_count": 2,
   "metadata": {},
   "outputs": [],
   "source": [
    "# 1 đồng xu có p(head)=0.4\n",
    "p = 0.4\n",
    "bernoulli = st.bernoulli(p)"
   ]
  },
  {
   "cell_type": "code",
   "execution_count": 3,
   "metadata": {},
   "outputs": [
    {
     "data": {
      "image/png": "[encoded data removed]",
      "text/plain": [
       "<Figure size 432x288 with 1 Axes>"
      ]
     },
     "metadata": {
      "needs_background": "light"
     },
     "output_type": "display_data"
    }
   ],
   "source": [
    "# vẽ pmf\n",
    "a = [0,1]\n",
    "plt.bar(a, bernoulli.pmf(a))\n",
    "plt.xticks(a);"
   ]
  },
  {
   "cell_type": "markdown",
   "metadata": {},
   "source": [
    "---\n",
    "# [BINOMIAL DISTRIBUTION](https://en.wikipedia.org/wiki/Binomial_distribution)\n",
    "Là phân phối tổng của nhiều lần bernoulli.  \n",
    "$$ X \\sim Binom(n, p) $$\n",
    "$$ \\text{PMF} = C^n_xp^x(1-p)^{n-x} $$\n",
    "$$ C^n_x = Combination = \\frac{n!}{x!(n-x)!} $$\n",
    "$$ E[X] = np \\quad \\text{Var}(X) = np(1-p) $$"
   ]
  },
  {
   "cell_type": "code",
   "execution_count": 4,
   "metadata": {},
   "outputs": [],
   "source": [
    "# Tung 1 đồng xu có p(head)=0.4 và tung 100 lần\n",
    "n, p = 100, 0.4\n",
    "binom = st.binom(n,p)"
   ]
  },
  {
   "cell_type": "code",
   "execution_count": 5,
   "metadata": {},
   "outputs": [
    {
     "data": {
      "image/png": "[encoded data removed]",
      "text/plain": [
       "<Figure size 432x288 with 1 Axes>"
      ]
     },
     "metadata": {
      "needs_background": "light"
     },
     "output_type": "display_data"
    }
   ],
   "source": [
    "# vẽ pmf từ 10 đến 60\n",
    "a = np.arange(10,60)\n",
    "plt.bar(a, binom.pmf(a));"
   ]
  },
  {
   "cell_type": "code",
   "execution_count": 6,
   "metadata": {},
   "outputs": [
    {
     "data": {
      "text/plain": [
       "1.0530552862387031e-05"
      ]
     },
     "execution_count": 6,
     "metadata": {},
     "output_type": "execute_result"
    }
   ],
   "source": [
    "# xác suất để tung 20 lần ra head khi tung 100 lần\n",
    "binom.pmf(20)"
   ]
  },
  {
   "cell_type": "code",
   "execution_count": 7,
   "metadata": {},
   "outputs": [
    {
     "data": {
      "text/plain": [
       "0.08121914499609979"
      ]
     },
     "execution_count": 7,
     "metadata": {},
     "output_type": "execute_result"
    }
   ],
   "source": [
    "# xác suất để tung 40 lần ra head khi tung 100 lần\n",
    "binom.pmf(40)"
   ]
  },
  {
   "cell_type": "code",
   "execution_count": 8,
   "metadata": {},
   "outputs": [
    {
     "data": {
      "text/plain": [
       "0.7385730184692305"
      ]
     },
     "execution_count": 8,
     "metadata": {},
     "output_type": "execute_result"
    }
   ],
   "source": [
    "# xác suất để tung 35 đến 45 lần ra head khi tung 100 lần\n",
    "np.sum(binom.pmf(np.arange(35,46)))"
   ]
  },
  {
   "cell_type": "code",
   "execution_count": 9,
   "metadata": {},
   "outputs": [
    {
     "data": {
      "text/plain": [
       "40.0"
      ]
     },
     "execution_count": 9,
     "metadata": {},
     "output_type": "execute_result"
    }
   ],
   "source": [
    "binom.mean()"
   ]
  },
  {
   "cell_type": "markdown",
   "metadata": {},
   "source": [
    "---\n",
    "# [GEOMETRIC DISTRIBUTION](https://en.wikipedia.org/wiki/Geometric_distribution)\n",
    "Là phân phối của số lần để đạt được event đầu tiên.  \n",
    "Ví dụ:  \n",
    "- Số lần để ra mặt head đầu tiên của một đồng xu\n",
    "- Số lần test để có donor đầu tiên tương hợp ghép tạng \n",
    "\n",
    "$$ X \\sim \\text{Geo}(p) $$\n",
    "$$ \\text{PMF} = p(1-p)^{x-1} \\quad\\text{for x=1, 2,..} $$\n",
    "$$ E[X] = 1/p \\quad \\text{Var}(X) = \\frac{1-p}{p^2}$$"
   ]
  },
  {
   "cell_type": "code",
   "execution_count": 10,
   "metadata": {},
   "outputs": [],
   "source": [
    "# 1 đồng xu fake có p(head) = 0.3\n",
    "p=0.3\n",
    "geom = st.geom(p)"
   ]
  },
  {
   "cell_type": "code",
   "execution_count": 11,
   "metadata": {},
   "outputs": [
    {
     "data": {
      "image/png": "[encoded data removed]",
      "text/plain": [
       "<Figure size 432x288 with 1 Axes>"
      ]
     },
     "metadata": {
      "needs_background": "light"
     },
     "output_type": "display_data"
    }
   ],
   "source": [
    "# vẽ pmf\n",
    "a = np.array(range(1,11))\n",
    "plt.bar(a, geom.pmf(a));"
   ]
  },
  {
   "cell_type": "markdown",
   "metadata": {},
   "source": [
    "**=> Như vậy, xác suất để lần 1 ra head là 0.3, lần 2 ra head là 0.7\\*0.3=0.21, lần 3 là 0.7\\*0.7\\*0.3=0.15, từ từ giảm xuống**"
   ]
  },
  {
   "cell_type": "code",
   "execution_count": 12,
   "metadata": {},
   "outputs": [
    {
     "data": {
      "text/plain": [
       "0.657"
      ]
     },
     "execution_count": 12,
     "metadata": {},
     "output_type": "execute_result"
    }
   ],
   "source": [
    "# xác xuất để 3 lần đầu ra head\n",
    "# dùng CDF(3) = PMF(1) + PMF(2) + PMF(3)\n",
    "geom.cdf(3)"
   ]
  },
  {
   "cell_type": "code",
   "execution_count": 13,
   "metadata": {},
   "outputs": [
    {
     "data": {
      "text/plain": [
       "0.657"
      ]
     },
     "execution_count": 13,
     "metadata": {},
     "output_type": "execute_result"
    }
   ],
   "source": [
    "# dùng tổng PMF\n",
    "a = np.array([1,2,3])\n",
    "np.sum(geom.pmf(a))"
   ]
  },
  {
   "cell_type": "markdown",
   "metadata": {},
   "source": [
    "---\n",
    "# [MULTINOMIAL DISTRIBUTION](https://en.wikipedia.org/wiki/Multinomial_distribution)\n",
    "là phân phối tổng quát hóa của binomial distribution.  \n",
    "- n là tổng số lần\n",
    "- k là số nhóm\n",
    "- $x_i$ là số lần của nhóm i => $\\sum_{i=1}^kx_i=n $\n",
    "- $p_i$ là xác suất nhóm i => $\\sum_{i=1}^kp_i=1 $\n",
    "$$ X_1, X_2,\\dots, X_k \\sim Multinomial(n, k, p_1, \\dots, p_k) $$\n",
    "$$ \\text{PMF} = \\frac{n!}{x_1!\\dots x_2!}p_1^{x_1}p_2^{x_2}\\dots p_k^{x_k}$$\n",
    "$$ E[X_i] = np_i \\quad \\text{Var}(X_i) = np_i(1-p_i) $$"
   ]
  },
  {
   "cell_type": "code",
   "execution_count": 14,
   "metadata": {},
   "outputs": [],
   "source": [
    "# 1 cục xí ngầu có p1=..=p5=0.15; p6 =0.25\n",
    "# tung 100 lần\n",
    "n = 100\n",
    "p1 = p2 = p3 = p4 = p5 = 0.15\n",
    "p6 = 0.25\n",
    "multi = st.multinomial(n, [p1,p2,p3,p4,p5,p6])"
   ]
  },
  {
   "cell_type": "code",
   "execution_count": 15,
   "metadata": {},
   "outputs": [
    {
     "data": {
      "text/plain": [
       "2.4528839654987966e-11"
      ]
     },
     "execution_count": 15,
     "metadata": {},
     "output_type": "execute_result"
    }
   ],
   "source": [
    "# xác xuất để ra k1=k2=k3=k4=k5=10, k6=50\n",
    "multi.pmf([10,10,10,10,10,50])"
   ]
  },
  {
   "cell_type": "code",
   "execution_count": 16,
   "metadata": {},
   "outputs": [
    {
     "data": {
      "text/plain": [
       "1.284961789878166e-05"
      ]
     },
     "execution_count": 16,
     "metadata": {},
     "output_type": "execute_result"
    }
   ],
   "source": [
    "# xác xuất để ra k1=k2=k3=k4=k5=14, k6=30\n",
    "multi.pmf([14,14,14,14,14,30])"
   ]
  },
  {
   "cell_type": "code",
   "execution_count": 17,
   "metadata": {},
   "outputs": [
    {
     "data": {
      "text/plain": [
       "2.25011423021118e-05"
      ]
     },
     "execution_count": 17,
     "metadata": {},
     "output_type": "execute_result"
    }
   ],
   "source": [
    "# xác xuất để ra k1=k2=k3=k4=k5=15, k6=25\n",
    "multi.pmf([15]*5 + [25])"
   ]
  },
  {
   "cell_type": "markdown",
   "metadata": {},
   "source": [
    "---\n",
    "# [POISSON DISTRIBUTION](https://en.wikipedia.org/wiki/Poisson_distribution)\n",
    "Là phân phối số lần xảy ra event khi biết khoảng thời gian/không gian giữa 2 events xảy ra là hằng định.  \n",
    "$$ X \\sim \\text{Poisson}(\\lambda) $$\n",
    "$$ \\text{PMF} = \\frac{\\lambda^xe^{-\\lambda}}{x!} $$\n",
    "$$ E[X] = \\text{Var}(X) = \\lambda $$"
   ]
  },
  {
   "cell_type": "code",
   "execution_count": 40,
   "metadata": {},
   "outputs": [
    {
     "data": {
      "image/png": "[encoded data removed]",
      "text/plain": [
       "<Figure size 432x288 with 1 Axes>"
      ]
     },
     "metadata": {
      "needs_background": "light"
     },
     "output_type": "display_data"
    }
   ],
   "source": [
    "a = np.arange(0,10)\n",
    "for i in np.array([1,3,5,7,9]):\n",
    "    plt.plot(a, st.poisson(i).pmf(a), label=f\"$\\lambda$={i}\");\n",
    "plt.legend();"
   ]
  },
  {
   "cell_type": "code",
   "execution_count": 18,
   "metadata": {},
   "outputs": [],
   "source": [
    "# Xuất huyết não 2 ca / tuần\n",
    "poisson = st.poisson(2)"
   ]
  },
  {
   "cell_type": "code",
   "execution_count": 44,
   "metadata": {},
   "outputs": [
    {
     "data": {
      "text/plain": [
       "0.3233235838169366"
      ]
     },
     "execution_count": 44,
     "metadata": {},
     "output_type": "execute_result"
    }
   ],
   "source": [
    "# Xác suất xảy ra nhiều hơn 2 ca Xuất huyết não tuần sau\n",
    "# = 1 - xác suất ( 0 ca + 1 ca + 2 ca)\n",
    "1 - poisson.cdf(2)"
   ]
  },
  {
   "cell_type": "markdown",
   "metadata": {},
   "source": [
    "---\n",
    "# <center>CONTINUOUS DISTRIBUTIONS</center>"
   ]
  },
  {
   "cell_type": "markdown",
   "metadata": {},
   "source": [
    "---\n",
    "To be continued"
   ]
  }
 ],
 "metadata": {
  "kernelspec": {
   "display_name": "Python 3",
   "language": "python",
   "name": "python3"
  },
  "language_info": {
   "codemirror_mode": {
    "name": "ipython",
    "version": 3
   },
   "file_extension": ".py",
   "mimetype": "text/x-python",
   "name": "python",
   "nbconvert_exporter": "python",
   "pygments_lexer": "ipython3",
   "version": "3.7.3"
  }
 },
 "nbformat": 4,
 "nbformat_minor": 4
}
