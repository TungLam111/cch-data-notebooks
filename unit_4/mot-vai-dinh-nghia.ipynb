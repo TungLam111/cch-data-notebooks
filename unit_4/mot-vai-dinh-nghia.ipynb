{
 "cells": [
  {
   "cell_type": "markdown",
   "metadata": {},
   "source": [
    "# <center>Một vài định nghĩa</center>"
   ]
  },
  {
   "cell_type": "markdown",
   "metadata": {},
   "source": [
    "# I. Indicator function\n",
    "\n",
    "$$ I_{\\{A\\}}(x) = \n",
    "  \\begin{cases}\n",
    "    1  &  \\text{if } A \\text{ is True}\\\\\n",
    "    0  &  \\text{if } A \\text{ is False}\n",
    "  \\end{cases}\n",
    "$$\n",
    "\n",
    "Ví dụ: với x=3 thì:\n",
    "- $ I_{\\{2<x<10\\}}(x) = 1$\n",
    "- $ I_{\\{x<0\\}}(x) = 0$"
   ]
  },
  {
   "cell_type": "markdown",
   "metadata": {},
   "source": [
    "# II. Expected Value\n",
    "Là tổng của tất cả giá trị thực nhân trọng số. Đối với biến liên tục thì dùng tích phân.\n",
    "- Discrete: $E(X)=􏰁\\displaystyle\\sum_{x} xP(X =x)=\\displaystyle\\sum_{x} 􏰁xf(x)$\n",
    "- Continuous: $E(X)=\\int_{-\\infty}^\\infty xf(x)dx$  \n",
    "\n",
    "Expected value có thể xem như là số trung bình.  \n",
    "##### Một số đặc tính của Expected Value:\n",
    "- $ E[aX+bY+c] = aE[X] + bE[Y] +c $\n",
    "- $ E[g(X)] = \\int_{-\\infty}^\\infty g(x)f(x)dx$  \n",
    "- $ g(E[X]) \\neq E[g(X)] $"
   ]
  },
  {
   "cell_type": "markdown",
   "metadata": {},
   "source": [
    "# III. Variance\n",
    "Phương sai: Dùng để định lượng sự biến thiên của một biến.\n",
    "$$ \\text{Var}(X) = E[(X-\\mu)^2]$$\n",
    "\n",
    "- Discrete: $ \\text{Var}(X) = \\displaystyle\\sum_x \\Big( (x-\\mu)^2 . P(X=x) \\Big)$\n",
    "- Continuous: $ \\text{Var}(X) = \\int_{-\\infty}^{\\infty} (x-\\mu)^2.f(x)dx$\n",
    "\n",
    "Công thức rút gọn: $ \\text{Var}(X) = E[X^2] - E[X]^2 $  \n",
    "Căn bậc hai của Variance là Standard deviation (độ lệch chuẩn).  \n",
    "##### Một số đặc tính của Variance:\n",
    "- $ \\text{Var}(aX+bY+c) = a^2\\text{Var}(X) + b^2\\text{Var}(Y) $\n"
   ]
  },
  {
   "cell_type": "markdown",
   "metadata": {},
   "source": [
    "# IV. Thực hành\n",
    "Một biến số có phân phối theo hàm PDF = $f(x) = 3x^2. I_{\\{0\\leq x\\leq 1\\}}(x)$\n",
    "\n",
    "Expected Value:  \n",
    "$ E[X] = \\int_{-\\infty}^\\infty xf(x)dx = \\int_0^1 x.3x^2dx = \\left.\\frac{3x^4}{4}\\right|_0^1=\\frac{3}{4}$\n",
    "\n",
    "Expected Value với g(x) = x$^2$:  \n",
    "$ E[X^2] = \\int_{-\\infty}^\\infty x^2f(x)dx = \\int_0^1 x^2.3x^2dx = \\left.\\frac{3x^5}{5}\\right|_0^1=\\frac{3}{5}$  \n",
    "\n",
    "Variance:  \n",
    "$ \\text{Var}(X) = E[X^2] - E[X]^2 = \\frac{3}{5} - (\\frac{3}{4})^2 = \\frac{3}{80} $"
   ]
  }
 ],
 "metadata": {
  "kernelspec": {
   "display_name": "Python 3",
   "language": "python",
   "name": "python3"
  },
  "language_info": {
   "codemirror_mode": {
    "name": "ipython",
    "version": 3
   },
   "file_extension": ".py",
   "mimetype": "text/x-python",
   "name": "python",
   "nbconvert_exporter": "python",
   "pygments_lexer": "ipython3",
   "version": "3.7.6"
  }
 },
 "nbformat": 4,
 "nbformat_minor": 4
}
